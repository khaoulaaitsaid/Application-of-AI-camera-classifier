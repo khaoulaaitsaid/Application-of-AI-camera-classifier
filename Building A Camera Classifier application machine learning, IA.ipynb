{
 "cells": [
  {
   "cell_type": "code",
   "execution_count": 1,
   "id": "2825d752-edf2-4e0d-a3d0-396cffa11907",
   "metadata": {},
   "outputs": [
    {
     "name": "stderr",
     "output_type": "stream",
     "text": [
      "C:\\Users\\FUJITSU\\AppData\\Roaming\\Python\\Python311\\site-packages\\sklearn\\svm\\_classes.py:32: FutureWarning: The default value of `dual` will change from `True` to `'auto'` in 1.5. Set the value of `dual` explicitly to suppress the warning.\n",
      "  warnings.warn(\n",
      "C:\\Users\\FUJITSU\\AppData\\Roaming\\Python\\Python311\\site-packages\\sklearn\\svm\\_base.py:1250: ConvergenceWarning: Liblinear failed to converge, increase the number of iterations.\n",
      "  warnings.warn(\n"
     ]
    },
    {
     "name": "stdout",
     "output_type": "stream",
     "text": [
      "Model successfully trained!\n",
      "phone\n",
      "phone\n",
      "phone\n",
      "phone\n",
      "phone\n",
      "phone\n",
      "phone\n",
      "phone\n",
      "phone\n",
      "phone\n",
      "phone\n",
      "phone\n",
      "phone\n",
      "phone\n",
      "phone\n",
      "phone\n",
      "phone\n",
      "phone\n",
      "phone\n",
      "phone\n",
      "phone\n",
      "phone\n",
      "phone\n",
      "phone\n",
      "phone\n",
      "phone\n",
      "phone\n",
      "phone\n",
      "phone\n",
      "phone\n",
      "phone\n",
      "phone\n",
      "phone\n",
      "phone\n",
      "phone\n",
      "phone\n",
      "phone\n",
      "phone\n",
      "phone\n",
      "phone\n",
      "phone\n",
      "phone\n",
      "phone\n",
      "phone\n",
      "phone\n",
      "phone\n"
     ]
    },
    {
     "name": "stderr",
     "output_type": "stream",
     "text": [
      "Exception in Tkinter callback\n",
      "Traceback (most recent call last):\n",
      "  File \"C:\\Program Files\\Python311\\Lib\\tkinter\\__init__.py\", line 1948, in __call__\n",
      "    return self.func(*args)\n",
      "           ^^^^^^^^^^^^^^^^\n",
      "  File \"C:\\Program Files\\Python311\\Lib\\tkinter\\__init__.py\", line 861, in callit\n",
      "    func(*args)\n",
      "  File \"C:\\Users\\FUJITSU\\Desktop\\python\\app.py\", line 94, in update\n",
      "    print(self.predict())\n",
      "          ^^^^^^^^^^^^^^\n",
      "  File \"C:\\Users\\FUJITSU\\Desktop\\python\\app.py\", line 106, in predict\n",
      "    prediction = self.model.predict(frame)\n",
      "                 ^^^^^^^^^^^^^^^^^^^^^^^^^\n",
      "  File \"C:\\Users\\FUJITSU\\Desktop\\python\\model.py\", line 43, in predict\n",
      "    prediction = self.model.predict([img])\n",
      "                 ^^^^^^^^^^^^^^^^^^^^^^^^^\n",
      "  File \"C:\\Users\\FUJITSU\\AppData\\Roaming\\Python\\Python311\\site-packages\\sklearn\\linear_model\\_base.py\", line 451, in predict\n",
      "    scores = self.decision_function(X)\n",
      "             ^^^^^^^^^^^^^^^^^^^^^^^^^\n",
      "  File \"C:\\Users\\FUJITSU\\AppData\\Roaming\\Python\\Python311\\site-packages\\sklearn\\linear_model\\_base.py\", line 429, in decision_function\n",
      "    check_is_fitted(self)\n",
      "  File \"C:\\Users\\FUJITSU\\AppData\\Roaming\\Python\\Python311\\site-packages\\sklearn\\utils\\validation.py\", line 1461, in check_is_fitted\n",
      "    raise NotFittedError(msg % {\"name\": type(estimator).__name__})\n",
      "sklearn.exceptions.NotFittedError: This LinearSVC instance is not fitted yet. Call 'fit' with appropriate arguments before using this estimator.\n"
     ]
    }
   ],
   "source": [
    "#main.py code:\n",
    "import app\n",
    "\n",
    "def main():\n",
    "    app.App(window_title=\"Camera Classifier\")\n",
    "\n",
    "if __name__ == \"__main__\":\n",
    "    main()"
   ]
  },
  {
   "cell_type": "code",
   "execution_count": null,
   "id": "987bcac2-478e-4051-b310-797aac0ccb2b",
   "metadata": {},
   "outputs": [],
   "source": []
  },
  {
   "cell_type": "code",
   "execution_count": null,
   "id": "a089dc5f-64d4-4b3c-9f66-4b8ceea5de1b",
   "metadata": {},
   "outputs": [],
   "source": []
  }
 ],
 "metadata": {
  "kernelspec": {
   "display_name": "Python 3 (ipykernel)",
   "language": "python",
   "name": "python3"
  },
  "language_info": {
   "codemirror_mode": {
    "name": "ipython",
    "version": 3
   },
   "file_extension": ".py",
   "mimetype": "text/x-python",
   "name": "python",
   "nbconvert_exporter": "python",
   "pygments_lexer": "ipython3",
   "version": "3.11.3"
  }
 },
 "nbformat": 4,
 "nbformat_minor": 5
}
